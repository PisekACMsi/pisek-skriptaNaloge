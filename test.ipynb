{
 "cells": [
  {
   "cell_type": "code",
   "execution_count": 41,
   "metadata": {},
   "outputs": [
    {
     "name": "stdout",
     "output_type": "stream",
     "text": [
      "['\"robot_start\"', '\"math_arithmetic\"', '\"math_number\"', '\"math_number\"', '\"controls_repeat_ext\"', '\"math_number\"', '\"math_number\"', '\"variables_get\"', '\"controls_whileUntil\"', '\"math_single\"', '\"math_number\"', '\"variables_set\"', '\"math_number_property\"', '\"math_number\"', '\"controls_for\"', '\"math_number\"', '\"math_number\"', '\"math_number\"', '\"math_round\"', '\"math_number\"', '\"math_modulo\"', '\"math_number\"', '\"math_number\"', '\"controls_flow_statements\"', '\"procedures_defreturn\"', '\"procedures_defnoreturn\"', '\"math_change\"', '\"math_number\"', '\"procedures_ifreturn\"', '\"procedures_callnoreturn\"', '\"procedures_callreturn\"']\n"
     ]
    }
   ],
   "source": [
    "import re\n",
    "string = '<xml xmlns=\"http://www.w3.org/1999/xhtml\"><block type=\"robot_start\" id=\"t5?]2ifud=yVFM.}vCn4\" deletable=\"false\" movable=\"false\" editable=\"false\" x=\"0\" y=\"0\"></block><block type=\"math_arithmetic\" id=\"R-zSaCs?/r7-WUwW;x;V\" x=\"107\" y=\"59\"><field name=\"OP\">ADD</field><value name=\"A\"><shadow type=\"math_number\" id=\"Y(N[_nhIUgXz-XgVek8Z\"><field name=\"NUM\">1</field></shadow></value><value name=\"B\"><shadow type=\"math_number\" id=\"tm7yvR4oL|0T[T5G(V9;\"><field name=\"NUM\">1</field></shadow></value></block><block type=\"controls_repeat_ext\" id=\":S!XC6?ZbeBTITZFf.l6\" x=\"297\" y=\"62\"><value name=\"TIMES\"><shadow type=\"math_number\" id=\"d]6l4(@#O_x[*d9hEsS)\"><field name=\"NUM\">10</field></shadow></value></block><block type=\"math_number\" id=\"aPePl;#tZWh]WX:BEeuY\" x=\"144\" y=\"120\"><field name=\"NUM\">0</field></block><block type=\"variables_get\" id=\"QjiW0u}2hU#_1`WWCuun\" x=\"96\" y=\"177\"><field name=\"VAR\">i</field></block><block type=\"controls_whileUntil\" id=\"p=2rgl7LUn/3@W-7K)|j\" x=\"270\" y=\"213\"><field name=\"MODE\">WHILE</field></block><block type=\"math_single\" id=\"Tx@]s2NWC]Gw/2bEXrR}\" x=\"10\" y=\"228\"><field name=\"OP\">ROOT</field><value name=\"NUM\"><shadow type=\"math_number\" id=\"fqxM.pw}D9),#BG/qQh(\"><field name=\"NUM\">9</field></shadow></value></block><block type=\"variables_set\" id=\"_c!y)MxHIw{DIwQ|qbGv\" x=\"47\" y=\"273\"><field name=\"VAR\">i</field></block><block type=\"math_number_property\" id=\"|Z@=Drn~Qjq1ntwMeuNW\" x=\"29\" y=\"314\"><mutation divisor_input=\"false\"></mutation><field name=\"PROPERTY\">EVEN</field><value name=\"NUMBER_TO_CHECK\"><shadow type=\"math_number\" id=\"E13(F,D9*SD-7dm`2Uf!\"><field name=\"NUM\">0</field></shadow></value></block><block type=\"controls_for\" id=\"=Nee4]zs0=z`eiTF7GeU\" x=\"185\" y=\"329\"><field name=\"VAR\">i</field><value name=\"FROM\"><shadow type=\"math_number\" id=\",Q7xkd|Wz/l@WBnwFD3)\"><field name=\"NUM\">1</field></shadow></value><value name=\"TO\"><shadow type=\"math_number\" id=\"f,LL[b@#Mv[ue-oS|Z~l\"><field name=\"NUM\">10</field></shadow></value><value name=\"BY\"><shadow type=\"math_number\" id=\"_.~(yKAOv?@}-ANdzH*B\"><field name=\"NUM\">1</field></shadow></value></block><block type=\"math_round\" id=\"2]X|zGIyG{OImlhFBRu2\" x=\"32\" y=\"378\"><field name=\"OP\">ROUND</field><value name=\"NUM\"><shadow type=\"math_number\" id=\"SOuk;50/c27tsGos]v7o\"><field name=\"NUM\">3.1</field></shadow></value></block><block type=\"math_modulo\" id=\"vFK@k)}M;|2rKn)X*Tg{\" x=\"44\" y=\"433\"><value name=\"DIVIDEND\"><shadow type=\"math_number\" id=\"JZ66A67|vlQWghYyZM,9\"><field name=\"NUM\">64</field></shadow></value><value name=\"DIVISOR\"><shadow type=\"math_number\" id=\"uK;-!XM(2I(huMqJ0BqV\"><field name=\"NUM\">10</field></shadow></value></block><block type=\"controls_flow_statements\" id=\"b`jHIDGL`jhOCR7)xt:0\" x=\"281\" y=\"439\"><field name=\"FLOW\">BREAK</field></block><block type=\"procedures_defreturn\" id=\"s4r`Q8f5Zfr/l_[I7#SZ\" x=\"485\" y=\"481\"><field name=\"NAME\">nekaj2</field><comment pinned=\"false\" h=\"80\" w=\"160\">Opiši to funkcijo...</comment></block><block type=\"procedures_defnoreturn\" id=\"EpDx+osmwEQ{z@Wo3}A,\" x=\"281\" y=\"509\"><field name=\"NAME\">nekaj</field><comment pinned=\"false\" h=\"80\" w=\"160\">Opiši to funkcijo...</comment></block><block type=\"math_change\" id=\"5b:/k||~+I805svPHCPv\" x=\"90\" y=\"529\"><field name=\"VAR\">i</field><value name=\"DELTA\"><shadow type=\"math_number\" id=\"ME`kH9@TY5={sAkSdVX{\"><field name=\"NUM\">1</field></shadow></value></block><block type=\"procedures_ifreturn\" id=\"|qVP3~4VifhAw;MrhbTb\" x=\"77\" y=\"574\"><mutation value=\"1\"></mutation></block><block type=\"procedures_callnoreturn\" id=\"17;p.`*,(}Mjx8K9Pd[O\" x=\"258\" y=\"582\"><mutation name=\"nekaj\"></mutation></block><block type=\"procedures_callreturn\" id=\"Ec{?ERu3Z!pRC68#x49p\" x=\"413\" y=\"583\"><mutation name=\"nekaj2\"></mutation></block><additional>{}</additional></xml>'\n",
    "\n",
    "print(re.findall(\"type=(.*?) id\", string))"
   ]
  },
  {
   "cell_type": "code",
   "execution_count": null,
   "metadata": {},
   "outputs": [],
   "source": [
    "\"robot_start\"\n",
    "\"math_arithmetic\"\n",
    "\"math_number\"\n",
    "\"math_number\"\n",
    "\"controls_repeat_ext\"\n",
    "\"math_number\"\n",
    "\"math_number\"\n",
    "\"variables_get\"\n",
    "\"controls_whileUntil\"\n",
    "\"math_single\"\n",
    "\"math_number\"\n",
    "\"variables_set\"\n",
    "\"math_number_property\"\n",
    "\"math_number\"\n",
    "\"controls_for\"\n",
    "\"math_number\"\n",
    "\"math_number\"\n",
    "\"math_number\"\n",
    "\"math_round\"\n",
    "\"math_number\"\n",
    "\"math_modulo\"\n",
    "\"math_number\"\n",
    "\"math_number\"\n",
    "\"controls_flow_statements\"\n",
    "\"procedures_defreturn\"\n",
    "\"procedures_defnoreturn\"\n",
    "\"math_change\"\n",
    "\"math_number\"\n",
    "\"procedures_ifreturn\"\n",
    "\"procedures_callnoreturn\"\n",
    "\"procedures_callreturn\""
   ]
  }
 ],
 "metadata": {
  "kernelspec": {
   "display_name": "Python 3",
   "language": "python",
   "name": "python3"
  },
  "language_info": {
   "codemirror_mode": {
    "name": "ipython",
    "version": 3
   },
   "file_extension": ".py",
   "mimetype": "text/x-python",
   "name": "python",
   "nbconvert_exporter": "python",
   "pygments_lexer": "ipython3",
   "version": "3.11.3"
  },
  "orig_nbformat": 4
 },
 "nbformat": 4,
 "nbformat_minor": 2
}
