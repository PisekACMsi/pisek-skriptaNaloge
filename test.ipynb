{
 "cells": [
  {
   "cell_type": "code",
   "execution_count": 45,
   "metadata": {},
   "outputs": [
    {
     "name": "stdout",
     "output_type": "stream",
     "text": [
      "['startingBlockName', 'movement', 'tools', 'move', 'moveSimple', 'forward', 'forwardSimple', 'turn', 'turnAround', 'jump', 'move1d', 'jump1d', 'changeRobot', 'transport', 'sensorBool', 'sensorBool1D', 'sensorValue', 'sensorValue1D', 'alterValue', 'alterValue1D', 'destroy', 'destroy1D', 'create', 'create1D', 'wait', 'nitems', 'sensorRowCol', 'robotName0', 'pick', 'drop', 'north', 'south', 'east', 'west', 'northwest', 'southwest', 'southeast', 'northeast', 'up', 'down', 'left', 'right', 'around', 'forward', 'forwardLong', 'leftforward', 'leftbackward', 'rightforward', 'rightbackward', 'row', 'col', 'forward', 'forwardDown', 'under', 'category', 'notcategory', 'robot', 'obstacle', 'transportable', 'button', 'coin', 'number', 'edge', 'has', 'colour', 'transOrder', 'robot', 'obstacle', 'transportable', 'button', 'coin', 'number', 'nonspecific', 'colour', 'value', 'transOrder', 'colour', 'value', 'transOrder', 'colour', 'value', 'paint', 'number', 'obstacle', 'category', 'notcategory', 'robot', 'obstacle', 'transportable', 'button', 'coin', 'number', 'has', 'colour', 'transOrder', 'success', 'failure', 'itemsExist', 'itemsDontExist', 'itemsCoincide', 'itemsDontCoincide', 'successReachGeenArea', 'failureReachGeenArea', 'unknownJump', 'obstacle', 'leavesGrid', 'nothingToPickUp', 'alreadyTransporting', 'notTransporting', 'robotNotOnGrid', 'wrongPickOrder', 'noSuchItemOnCell', 'unknownType']\n"
     ]
    }
   ],
   "source": [
    "import json\n",
    "import flatdict\n",
    "f = open('imenaDelckov.txt', \"r\", encoding = (\"utf-8\"))\n",
    "  \n",
    "# returns JSON object as \n",
    "# a dictionary\n",
    "data = json.load(f)\n",
    "f1 = flatdict.FlatDict(data, delimiter=\".\")\n",
    "languageStringsKeys = [key.split(\".\")[-1] for key in f1.keys()]\n",
    "print(languageStringsKeys)\n",
    "# # Closing file\n",
    "f.close()"
   ]
  }
 ],
 "metadata": {
  "kernelspec": {
   "display_name": "Python 3",
   "language": "python",
   "name": "python3"
  },
  "language_info": {
   "codemirror_mode": {
    "name": "ipython",
    "version": 3
   },
   "file_extension": ".py",
   "mimetype": "text/x-python",
   "name": "python",
   "nbconvert_exporter": "python",
   "pygments_lexer": "ipython3",
   "version": "3.11.2"
  },
  "orig_nbformat": 4
 },
 "nbformat": 4,
 "nbformat_minor": 2
}
