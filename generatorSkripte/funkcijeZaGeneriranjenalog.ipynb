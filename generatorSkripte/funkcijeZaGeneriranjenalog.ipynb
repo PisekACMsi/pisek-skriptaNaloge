{
 "cells": [
  {
   "cell_type": "code",
   "execution_count": 1,
   "metadata": {},
   "outputs": [],
   "source": [
    "import json\n",
    "import re\n",
    "import numpy as np"
   ]
  },
  {
   "cell_type": "code",
   "execution_count": 13,
   "metadata": {},
   "outputs": [],
   "source": [
    "def izpisiLanguageStrings(lst:list):\n",
    "    slv = {}\n",
    "    for par in lst:\n",
    "        slv.update(par)\n",
    "    pySlv = {\"languageStrings\":{\"sl\":{}}}\n",
    "\n",
    "    pySlv[\"languageStrings\"][\"sl\"] = slv\n",
    "    \n",
    "    # jsonStr = json.dumps(pySlv, indent = 5, ensure_ascii=False)\n",
    "    # jsString = re.sub(\"\\\"([^\\\"]+)\\\":\", r\"\\1:\", jsonStr).replace(r'\\\"', \"\")\n",
    "    # return jsString[1:-1]\n",
    "    return pySlv\n",
    "\n",
    "slv = {}\n",
    "s1 = \"program 2\"\n",
    "par1 = {\"startingBlockName\": s1,} #zadnji vnos je poljuben, ostali so fiksni\n",
    "par2 = {\"categories\": {\"actions\": \"Gibanje\"}}\n",
    "par3 = {\"label\": {\"changeRobot\": \"zamenjaj vlogo %1 HAHA\"}}\n",
    "par4 = {\"label\": {\"colour\": \"LOL %1\",}}\n",
    "par5 = {\"options\":{\"pick\": \"poberi UPS\",}}\n",
    "par6 = {\"messages\":{\"itemsExist\": \"Kovanci so na mreži.\"}}\n",
    "par7 = {\"messages\":{\"itemsDontExist\": \"Kovancev ni na mreži.\"}}\n",
    "par8 = {\"options\":{\"tools\": {\"bool\": {\"category\": \"je\"}}}}\n",
    "pars = [par1, par2, par3, par4, par5, par6, par7, par8]\n",
    "\n",
    "\n",
    "# print(izpisiLanguageStrings(slv))\n",
    "languageStrings = izpisiLanguageStrings(slv)"
   ]
  },
  {
   "cell_type": "code",
   "execution_count": 14,
   "metadata": {},
   "outputs": [
    {
     "name": "stdout",
     "output_type": "stream",
     "text": [
      "{'hideControls': {'restart': False, 'saveOrLoad': False, 'loadBestAnswer': False, 'speedSlider': False, 'backToFirst': False, 'nextStep': False, 'goToEnd': False}}\n"
     ]
    }
   ],
   "source": [
    "def izpisiHideControls(restart = False, saveOrLoad = False, loadBestAnswer = False, speedSlider = False, backToFirst = False, nextStep = False, goToEnd = False):\n",
    "    pySlv = {\"hideControls\":{}}\n",
    "    slv = {\"restart\": restart, \"saveOrLoad\": saveOrLoad, \"loadBestAnswer\": loadBestAnswer, \"speedSlider\": speedSlider, \"backToFirst\": backToFirst, \"nextStep\": nextStep, \"goToEnd\": goToEnd,}\n",
    "    pySlv[\"hideControls\"] = slv\n",
    "\n",
    "    # jsonStr = json.dumps(pySlv, indent = 5)\n",
    "    # jsString = re.sub(\"\\\"([^\\\"]+)\\\":\", r\"\\1:\", jsonStr).replace(r'\\\"', \"\")\n",
    "    # return jsString[1:-1]\n",
    "    return pySlv\n",
    "\n",
    "#default\n",
    "\n",
    "print(izpisiHideControls())\n",
    "hideControls = izpisiHideControls()"
   ]
  },
  {
   "cell_type": "code",
   "execution_count": 15,
   "metadata": {},
   "outputs": [],
   "source": [
    "def izpisiRandomBulshit1(introMaxHeight = \"33%\", maxListSize = 100, scrollbars = True, controls = True, scale = 1, actionDelay = 400, blocklyColourTheme = \"bwinf\", maxInstructions = 0):\n",
    "    slv = {\"introMaxHeight\": introMaxHeight,\n",
    "\t\t\"maxListSize\": maxListSize, \n",
    "\t\t\"scrollbars\": scrollbars,\n",
    "\t\t\"zoom\": {\n",
    "\t\t\t\"controls\": controls,\n",
    "\t\t\t\"scale\": scale,\n",
    "\t\t\t},\n",
    "        \"actionDelay\": actionDelay,\t\t\t\t\n",
    "\t\t\"blocklyColourTheme\": blocklyColourTheme,\n",
    "\t\t\"maxInstructions\": maxInstructions\n",
    "        }\n",
    "    return slv\n",
    "randomBulshit1 = izpisiRandomBulshit1()"
   ]
  },
  {
   "cell_type": "code",
   "execution_count": 16,
   "metadata": {},
   "outputs": [
    {
     "name": "stdout",
     "output_type": "stream",
     "text": [
      "{'startingExample': {'blockly': '<xml xmlns=\"http://www.w3.org/1999/xhtml\"><block type=\"robot_start\" id=\"Yx#}`-PvOO]HA4c0m7]F\" deletable=\"false\" movable=\"false\" editable=\"false\" x=\"0\" y=\"0\"><next><block type=\"move\" id=\"CoO|[q[@qpAx1_*bS`Or\"><field name=\"PARAM_0\">S</field><value name=\"PARAM_1\"><shadow type=\"math_number\" id=\"Hyc?21Pdl93/lRnSQ;yk\"><field name=\"NUM\">5</field></shadow></value><next><block type=\"move\" id=\".0,k.*t.-0!PhL2?iW=S\"><field name=\"PARAM_0\">W</field><value name=\"PARAM_1\"><shadow type=\"math_number\" id=\"Eoy,Bt|qklJL]F[A_HUS\"><field name=\"NUM\">5</field></shadow></value><next><block type=\"move\" id=\"-0w[|/Bnh{6lzt*/qE/1\"><field name=\"PARAM_0\">N</field><value name=\"PARAM_1\"><shadow type=\"math_number\" id=\")T;FmigiJI@U(YA2/T+[\"><field name=\"NUM\">1</field></shadow></value></block></next></block></next></block></next></block><block type=\"controls_repeat_ext\" id=\"2E]Uhs@W}KrbH3PJF36*\" x=\"20\" y=\"155\"><value name=\"TIMES\"><shadow type=\"math_number\" id=\"z_GWSb[:HQjB|Qf]0C9N\"><field name=\"NUM\">3</field></shadow></value><statement name=\"DO\"><block type=\"moveSimple\" id=\"yar~u.Qkhzs]q=@VlZ9c\"><field name=\"PARAM_0\">S</field></block></statement><next><block type=\"controls_repeat_ext\" id=\"z@Gfs[CGcB6T{G-72W|z\"><value name=\"TIMES\"><shadow type=\"math_number\" id=\"73LZY(lJ1blr[EH[s;W*\"><field name=\"NUM\">4</field></shadow></value><statement name=\"DO\"><block type=\"moveSimple\" id=\"#-0m.#:qs#=w*PlCX[qW\"><field name=\"PARAM_0\">W</field></block></statement></block></next></block><additional>{}</additional></xml>'}}\n"
     ]
    }
   ],
   "source": [
    "def izpisiStartingExample(str):\n",
    "    pySlv = {\"startingExample\":{}}\n",
    "    \n",
    "    #python slovar\n",
    "    pySlv[\"startingExample\"][\"blockly\"] = str\n",
    "    # jsonStr = json.dumps(pySlv, indent = 5)\n",
    "    # jsString = re.sub(\"\\\"([^\\\"]+)\\\":\", r\"\\1:\", jsonStr).replace(r'\\\"', \"\")\n",
    "    # return jsString[1:-1]\n",
    "    return pySlv\n",
    "\n",
    "\n",
    "str = '<xml xmlns=\"http://www.w3.org/1999/xhtml\"><block type=\"robot_start\" id=\"Yx#}`-PvOO]HA4c0m7]F\" deletable=\"false\" movable=\"false\" editable=\"false\" x=\"0\" y=\"0\"><next><block type=\"move\" id=\"CoO|[q[@qpAx1_*bS`Or\"><field name=\"PARAM_0\">S</field><value name=\"PARAM_1\"><shadow type=\"math_number\" id=\"Hyc?21Pdl93/lRnSQ;yk\"><field name=\"NUM\">5</field></shadow></value><next><block type=\"move\" id=\".0,k.*t.-0!PhL2?iW=S\"><field name=\"PARAM_0\">W</field><value name=\"PARAM_1\"><shadow type=\"math_number\" id=\"Eoy,Bt|qklJL]F[A_HUS\"><field name=\"NUM\">5</field></shadow></value><next><block type=\"move\" id=\"-0w[|/Bnh{6lzt*/qE/1\"><field name=\"PARAM_0\">N</field><value name=\"PARAM_1\"><shadow type=\"math_number\" id=\")T;FmigiJI@U(YA2/T+[\"><field name=\"NUM\">1</field></shadow></value></block></next></block></next></block></next></block><block type=\"controls_repeat_ext\" id=\"2E]Uhs@W}KrbH3PJF36*\" x=\"20\" y=\"155\"><value name=\"TIMES\"><shadow type=\"math_number\" id=\"z_GWSb[:HQjB|Qf]0C9N\"><field name=\"NUM\">3</field></shadow></value><statement name=\"DO\"><block type=\"moveSimple\" id=\"yar~u.Qkhzs]q=@VlZ9c\"><field name=\"PARAM_0\">S</field></block></statement><next><block type=\"controls_repeat_ext\" id=\"z@Gfs[CGcB6T{G-72W|z\"><value name=\"TIMES\"><shadow type=\"math_number\" id=\"73LZY(lJ1blr[EH[s;W*\"><field name=\"NUM\">4</field></shadow></value><statement name=\"DO\"><block type=\"moveSimple\" id=\"#-0m.#:qs#=w*PlCX[qW\"><field name=\"PARAM_0\">W</field></block></statement></block></next></block><additional>{}</additional></xml>'\n",
    "print(izpisiStartingExample(str))\n",
    "startingExample = izpisiStartingExample(str)"
   ]
  },
  {
   "cell_type": "code",
   "execution_count": 17,
   "metadata": {},
   "outputs": [
    {
     "name": "stdout",
     "output_type": "stream",
     "text": [
      "{'includeBlocks': {'groupByCategory': True, 'generatedBlocks': {'robot': ['move', 'moveSimple', 'forward', 'forwardSimple', 'turn', 'turnAround', 'jump', 'changeRobot', 'transport', 'sensorBool', 'sensorValue', 'alterValue', 'destroy', 'create', 'wait', 'nitems', 'sensorRowCol']}, 'standardBlocks': {'includeAll': True, 'wholeCategories': [], 'singleBlocks': [], 'excludedBlocks': []}}}\n"
     ]
    }
   ],
   "source": [
    "def izpisiIncludeBlocks(gbc = True, robot = [\"move\"], iclAll = True, whCat = [], sinBl = [], excBl = []):\n",
    "    \n",
    "    slv = {\"groupByCategory\": gbc, \"generatedBlocks\": {\"robot\": robot}, \"standardBlocks\": {\"includeAll\": iclAll, \"wholeCategories\": whCat, \"singleBlocks\": sinBl, \"excludedBlocks\": excBl,},}\n",
    "    pySlv = {\"includeBlocks\":{}}\n",
    "    \n",
    "    pySlv[\"includeBlocks\"] = slv\n",
    "\n",
    "    return pySlv\n",
    "\n",
    "\n",
    "#default\n",
    "gbc = True\n",
    "robot = [\"move\", \"moveSimple\", \"forward\", \"forwardSimple\", \"turn\", \"turnAround\", \"jump\", \"changeRobot\", \"transport\", \"sensorBool\", \"sensorValue\", \"alterValue\", \"destroy\", \"create\", \"wait\", \"nitems\", \"sensorRowCol\",]\n",
    "iclAll = True\n",
    "whCat = []\n",
    "sinBl = []\n",
    "excBl = []\n",
    "\n",
    "print(izpisiIncludeBlocks(robot = robot))\n",
    "includeBlocks = izpisiIncludeBlocks(gbc , robot, iclAll, whCat, sinBl, excBl)"
   ]
  },
  {
   "cell_type": "code",
   "execution_count": 18,
   "metadata": {},
   "outputs": [
    {
     "name": "stdout",
     "output_type": "stream",
     "text": [
      "{'checkEndCondition': '&#&(context, lastTurn) => { \\n\\trobotEndConditions.checkCombiner(context, lastTurn, [\\n\\t\\t(context, lastTurn) => { robotEndConditions.checkItemExistence(context, lastTurn, {category: \\\\coin\\\\}, {}, exist=false) },\\n\\t\\t//\\n\\t])\\n}&#&'}\n"
     ]
    }
   ],
   "source": [
    "def izpisiCheckEndCondition(indikator1 = \"category\", ime1 = \"coin\", negIndikator1 = \"\", negIme1 = \"\", indikatorA = \"\", imeA = \"\", indikatorB = \"\", imeB = \"\", keys = \"\", negIndikatorA = \"\", negImeA = \"\", negIndikatorB = \"\", negImeB = \"\"):\n",
    "    lst = [indikator1, ime1, negIndikator1, negIme1, indikatorA, imeA, indikatorB, imeB, keys, negIndikatorA, negImeA, negIndikatorB, negImeB]\n",
    "    \n",
    "    filters1 = r\"{}\"\n",
    "    negFilters1 = r\"{}\"\n",
    "    filtersA = r\"{}\"\n",
    "    filtersB = r\"{}\"\n",
    "    keys = r\"{}\"\n",
    "    negFiltersA = r\"{}\"\n",
    "    negFiltersB = r\"{}\"\n",
    "\n",
    "    if (lst[0] == \"\" and lst[1] == \"\") and (lst[2] == \"\" and lst[3] == \"\"):\n",
    "        funkcija1 = r\"//\"\n",
    "    else:\n",
    "        if lst[0] != \"\" and lst[1] != \"\":\n",
    "            filters1 = \"{%s: \\\\%s\\\\}\"%(lst[0], lst[1])\n",
    "        if lst[2] != \"\" and lst[3] != \"\":\n",
    "            negFilters1 = \"{%s: \\\\%s\\\\}\"%(lst[2], lst[3])\n",
    "        endCond1 = \"robotEndConditions.checkItemExistence(context, lastTurn, filters1, negFilters1, exist=false)\".replace(\"filters1\", filters1).replace(\"negFilters1\", negFilters1)\n",
    "        funkcija1 = \"(context, lastTurn) => { %s }\"%(endCond1)\n",
    "\n",
    "    if ((lst[4] == \"\" and lst[5] == \"\") and (lst[6] == \"\" and lst[7] == \"\")) and ((lst[9] == \"\" and lst[10] == \"\") and (lst[11] == \"\" and lst[12] == \"\")):\n",
    "        funkcija2 = r\"//\"\n",
    "    else:\n",
    "        if lst[4] and lst[5]:\n",
    "            filtersA = \"{%s: \\\\%s\\\\}\"%(lst[4], lst[5])\n",
    "        if lst[6] and lst[7]:\n",
    "            filtersB = \"{%s: \\\\%s\\\\}\"%(lst[6], lst[7])\n",
    "        keys = lst[8]\n",
    "        if lst[9] and lst[10]:\n",
    "            negFiltersA = \"{%s: \\\\%s\\\\}\"%(lst[9], lst[10])\n",
    "        if lst[11] and lst[12]:\n",
    "            negFiltersB = \"{%s: \\\\%s\\\\}\"%(lst[11], lst[12])\n",
    "        endCond2 = \"robotEndConditions.checkItemCoincidence(context, lastTurn, filtersA, filtersB, keys, negFiltersA, negFiltersB)\".replace(\"filtersA\", filtersA).replace(\"filtersB\", filtersB).replace(\"keys\", keys).replace(\"negFiltersA\", negFiltersA).replace(\"negFiltersB\", negFiltersB)\n",
    "        funkcija2 = \"(context, lastTurn) => { %s }\"%(endCond2)\n",
    "\n",
    "    template = open(\"endConditionTemplate.txt\", \"r\").read()\n",
    "    template = \"&#&\" + template.replace(\"funkcija1\", funkcija1).replace(\"funkcija2\", funkcija2) + \"&#&\"\n",
    "    pySlv = {\"checkEndCondition\": template}\n",
    "    \n",
    "    # jsonStr = json.dumps(pySlv, indent = 5)\n",
    "    # jsString = re.sub(\"\\\"([^\\\"]+)\\\":\", r\"\\1:\", jsonStr).replace(\"\\\"\", \"\").replace(\"\\\\\\\\\", \"\\\"\")\n",
    "    # return jsString[1:-1]\n",
    "    return pySlv\n",
    "\n",
    "\n",
    "\n",
    "\n",
    "print(izpisiCheckEndCondition())\n",
    "checkEndCondition = izpisiCheckEndCondition()"
   ]
  },
  {
   "cell_type": "code",
   "execution_count": 19,
   "metadata": {},
   "outputs": [],
   "source": [
    "def izpisiRandomBulsit2(border = 0, backgroundColour = \"white\", backgroundTile = \"\", borderColour = \"black\", showLabels = True, cellSide = 60, numberOfRobots = 1): \n",
    "    slv = {\"border\": border,\n",
    "    \"backgroundColour\": backgroundColour,\n",
    "    \"backgroundTile\": backgroundTile,\n",
    "    \"borderColour\": borderColour,\n",
    "    \"showLabels\": showLabels,\n",
    "\n",
    "    \"cellSide\": cellSide,\t\n",
    "    \"numberOfRobots\": numberOfRobots}\n",
    "    return slv\n",
    "\n",
    "randomBulsit2 = izpisiRandomBulsit2()"
   ]
  },
  {
   "cell_type": "code",
   "execution_count": 20,
   "metadata": {},
   "outputs": [
    {
     "name": "stdout",
     "output_type": "stream",
     "text": [
      "{'itemTypes': {'robot0': {'num': 2, 'img': ['pisek.png'], 'zOrder': 2, 'nbStates': 8, 'category': [{'\"robot\"': True}], 'value': 0}}}\n"
     ]
    }
   ],
   "source": [
    "def izpisiItemTypes(slv: dict):\n",
    "    pySlv = {\"itemTypes\":{}}\n",
    "    pySlv[\"itemTypes\"] = slv\n",
    "\n",
    "    return pySlv\n",
    "\n",
    "def ustvariItemType(num, img = \"\", zOrder = 0, nbStates = 1, category = \"\", value = 0):\n",
    "    slv = {}\n",
    "    \n",
    "    slv[\"num\"] = num\n",
    "    slv[\"img\"] = img\n",
    "    slv[\"zOrder\"] = zOrder\n",
    "    slv[\"nbStates\"] = nbStates\n",
    "    slv[\"category\"] = category\n",
    "    slv[\"value\"] = value\n",
    "\n",
    "    return slv\n",
    "\n",
    "\n",
    "ime1IT = \"robot0\"\n",
    "numIT = 2\n",
    "imgIT = [\"pisek.png\"]\n",
    "zOrderIT = 2\n",
    "nbStatesIT = 8\n",
    "catIT = \"robot\"\n",
    "categoryIT = [{\"\\\"%s\\\"\"%catIT:True}]\n",
    "item1IT = ustvariItemType(numIT, imgIT, zOrderIT, nbStatesIT, categoryIT)\n",
    "#default slv je prazen {}, nekam zapiši vse opcije in tipe inputa\n",
    "slvIT = {}\n",
    "slvIT[ime1IT] = item1IT\n",
    "\n",
    "jsStr = izpisiItemTypes(slv)\n",
    "print(jsStr)\n",
    "itemTypes = izpisiItemTypes(slvIT)"
   ]
  },
  {
   "cell_type": "code",
   "execution_count": 25,
   "metadata": {},
   "outputs": [
    {
     "name": "stdout",
     "output_type": "stream",
     "text": [
      "{'easy': [{'tiles': '&#&[[1, 1, 1, 1, 1],\\n       [1, 1, 1, 1, 1],\\n       [1, 1, 1, 1, 1],\\n       [1, 1, 1, 1, 1]]&#&', 'initItems': [{'row': 2, 'col': 2, 'dir': 4, 'type': 'robot', 'value': 1}, {'row': 3, 'col': 1, 'dir': 4, 'type': 'krNekej', 'value': 5}]}, {'tiles': '&#&[[1, 1, 1, 1, 1, 1, 1, 1],\\n       [1, 1, 1, 1, 1, 1, 1, 1],\\n       [1, 1, 1, 1, 1, 1, 1, 1],\\n       [1, 1, 1, 1, 1, 1, 1, 1],\\n       [1, 1, 1, 1, 1, 1, 1, 1]]&#&', 'initItems': [{'row': 2, 'col': 2, 'dir': 4, 'type': 'robot', 'value': 1}, {'row': 3, 'col': 1, 'dir': 4, 'type': 'krNekej', 'value': 5}]}]}\n"
     ]
    }
   ],
   "source": [
    "def izpisiSubTaskData(lst: list):\n",
    "    pySlv = {\"easy\": lst}\n",
    "\n",
    "    # jsonStr = json.dumps(pySlv, indent = 5, ensure_ascii=False)\n",
    "    # jsString = re.sub(\"\\\"([^\\\"]+)\\\":\", r\"\\1:\", jsonStr)\n",
    "    #return jsString\n",
    "    return pySlv\n",
    "    \n",
    "\n",
    "def sestaviMatriko(n,m):\n",
    "    return \"&#&\" + np.array_repr(np.ones((n,m), dtype = np.int8)).replace(\"array(\", \"\").replace(\", dtype=int8)\", \"\") + \"&#&\"\n",
    "\n",
    "def sestaviIncializacijo(row, col, type, dir = 0, value = 0):\n",
    "    slv = {}\n",
    "    \n",
    "    slv[\"row\"] = row\n",
    "    slv[\"col\"] = col\n",
    "    slv[\"dir\"] = dir\n",
    "    slv[\"type\"] = type\n",
    "    slv[\"value\"] = value\n",
    "\n",
    "    return slv\n",
    "\n",
    "matrika1 = sestaviMatriko(4,5)\n",
    "items1 = [sestaviIncializacijo(row = 2, col = 2, dir = 4, type = \"robot\", value = 1), sestaviIncializacijo(row = 3, col = 1, dir = 4, type = \"krNekej\", value = 5)]\n",
    "easy1 = {\"tiles\":matrika1, \"initItems\":items1}\n",
    "\n",
    "matrika2 = sestaviMatriko(5,8)\n",
    "items2 = [sestaviIncializacijo(row = 2, col = 2, dir = 4, type = \"robot\", value = 1), sestaviIncializacijo(row = 3, col = 1, dir = 4, type = \"krNekej\", value = 5)]\n",
    "easy2 = {\"tiles\":matrika2, \"initItems\":items2}\n",
    "\n",
    "lst = [easy1, easy2]\n",
    "print(izpisiSubTaskData(lst))\n",
    "subTaskData = izpisiSubTaskData(lst)"
   ]
  },
  {
   "cell_type": "code",
   "execution_count": 26,
   "metadata": {},
   "outputs": [],
   "source": [
    "def zdruzi(languageStrings, hideControls, includeBlocks, startingExample, checkEndCondition, itemTypes, subTaskData):\n",
    "    ulmSlv = {}\n",
    "    ulmSlv.update(languageStrings)\n",
    "    ulmSlv.update(hideControls)\n",
    "    ulmSlv.update(randomBulshit1)\n",
    "    ulmSlv.update(includeBlocks)\n",
    "    ulmSlv.update(startingExample)\n",
    "    ulmSlv.update(checkEndCondition)\n",
    "    ulmSlv.update(randomBulsit2)\n",
    "    ulmSlv.update(itemTypes)\n",
    "\n",
    "    jsonStr = json.dumps(ulmSlv, indent = 5, ensure_ascii=False)\n",
    "    jsString1 = re.sub(\"\\\"([^\\\"]+)\\\":\", r\"\\1:\", jsonStr).replace(r'\\\"', \"\")\n",
    "    jsString1 = jsString1.replace(\"\\\"&#&\", \"\").replace(\"&#&\\\"\", \"\").replace(\"\\\\\\\\\", \"\\\"\").replace(\"\\\\n\", \"\\n\").replace(\"\\\\t\", \"\\t\")\n",
    "    str1 = \"subTask.gridInfos = {};\".format(jsString1)\n",
    "\n",
    "    jsonStr = json.dumps(subTaskData, indent = 5, ensure_ascii=False)\n",
    "    jsString2 = re.sub(\"\\\"([^\\\"]+)\\\":\", r\"\\1:\", jsonStr).replace(r'\\\"', \"\").replace(\"\\\"&#&\", \"\").replace(\"&#&\\\"\", \"\")\n",
    "    jsString2 = jsString2.replace(\"\\\\n\", \"\\n\")\n",
    "    str2 = \"subTask.data = {};\".format(jsString2)\n",
    "\n",
    "    theString = \"function initTask(subTask) {{\\n {0}\\n{1}\\ninitBlocklySubTask(subTask); \\n}}\".format(str1, str2)\n",
    "    fajl = open(\"theTest.txt\", \"w\", encoding = \"utf-8\")\n",
    "    fajl.write(theString)\n",
    "    fajl.close()\n",
    "\n",
    "zdruzi(languageStrings, hideControls, includeBlocks, startingExample, checkEndCondition, itemTypes, subTaskData)\n",
    "\n",
    "\n"
   ]
  },
  {
   "cell_type": "code",
   "execution_count": 259,
   "metadata": {},
   "outputs": [
    {
     "name": "stdout",
     "output_type": "stream",
     "text": [
      "{'a': 2, 'b': 3, 'c': 4, 'd': 5}\n"
     ]
    }
   ],
   "source": [
    "a = {\"a\":2, \"b\":3}\n",
    "b = {\"c\":4, \"d\":5}\n",
    "a.update(b)\n",
    "print(a)"
   ]
  }
 ],
 "metadata": {
  "kernelspec": {
   "display_name": "Python 3",
   "language": "python",
   "name": "python3"
  },
  "language_info": {
   "codemirror_mode": {
    "name": "ipython",
    "version": 3
   },
   "file_extension": ".py",
   "mimetype": "text/x-python",
   "name": "python",
   "nbconvert_exporter": "python",
   "pygments_lexer": "ipython3",
   "version": "3.11.2"
  },
  "orig_nbformat": 4
 },
 "nbformat": 4,
 "nbformat_minor": 2
}
